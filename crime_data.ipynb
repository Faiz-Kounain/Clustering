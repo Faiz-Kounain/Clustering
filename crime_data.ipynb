{
 "cells": [
  {
   "cell_type": "raw",
   "id": "e4ddc23c",
   "metadata": {},
   "source": [
    "Perform Clustering(Hierarchical, Kmeans & DBSCAN) for the crime data and \n",
    "identify the number of clusters formed and draw inferences.\n",
    "\n",
    "Data Description:\n",
    "Murder -- Muder rates in different places of United States\n",
    "Assualt- Assualt rate in different places of United States\n",
    "UrbanPop - urban population in different places of United States\n",
    "Rape - Rape rate in different places of United States"
   ]
  },
  {
   "cell_type": "code",
   "execution_count": 9,
   "id": "ada13295",
   "metadata": {},
   "outputs": [],
   "source": [
    "import warnings\n",
    "warnings.filterwarnings('ignore')"
   ]
  },
  {
   "cell_type": "code",
   "execution_count": 1,
   "id": "5daac813",
   "metadata": {},
   "outputs": [],
   "source": [
    "import numpy as np\n",
    "import pandas as pd\n",
    "import matplotlib.pyplot as plt"
   ]
  },
  {
   "cell_type": "code",
   "execution_count": 2,
   "id": "7f18b4ef",
   "metadata": {},
   "outputs": [
    {
     "data": {
      "text/html": [
       "<div>\n",
       "<style scoped>\n",
       "    .dataframe tbody tr th:only-of-type {\n",
       "        vertical-align: middle;\n",
       "    }\n",
       "\n",
       "    .dataframe tbody tr th {\n",
       "        vertical-align: top;\n",
       "    }\n",
       "\n",
       "    .dataframe thead th {\n",
       "        text-align: right;\n",
       "    }\n",
       "</style>\n",
       "<table border=\"1\" class=\"dataframe\">\n",
       "  <thead>\n",
       "    <tr style=\"text-align: right;\">\n",
       "      <th></th>\n",
       "      <th>Unnamed: 0</th>\n",
       "      <th>Murder</th>\n",
       "      <th>Assault</th>\n",
       "      <th>UrbanPop</th>\n",
       "      <th>Rape</th>\n",
       "    </tr>\n",
       "  </thead>\n",
       "  <tbody>\n",
       "    <tr>\n",
       "      <th>0</th>\n",
       "      <td>Alabama</td>\n",
       "      <td>13.2</td>\n",
       "      <td>236</td>\n",
       "      <td>58</td>\n",
       "      <td>21.2</td>\n",
       "    </tr>\n",
       "    <tr>\n",
       "      <th>1</th>\n",
       "      <td>Alaska</td>\n",
       "      <td>10.0</td>\n",
       "      <td>263</td>\n",
       "      <td>48</td>\n",
       "      <td>44.5</td>\n",
       "    </tr>\n",
       "    <tr>\n",
       "      <th>2</th>\n",
       "      <td>Arizona</td>\n",
       "      <td>8.1</td>\n",
       "      <td>294</td>\n",
       "      <td>80</td>\n",
       "      <td>31.0</td>\n",
       "    </tr>\n",
       "    <tr>\n",
       "      <th>3</th>\n",
       "      <td>Arkansas</td>\n",
       "      <td>8.8</td>\n",
       "      <td>190</td>\n",
       "      <td>50</td>\n",
       "      <td>19.5</td>\n",
       "    </tr>\n",
       "    <tr>\n",
       "      <th>4</th>\n",
       "      <td>California</td>\n",
       "      <td>9.0</td>\n",
       "      <td>276</td>\n",
       "      <td>91</td>\n",
       "      <td>40.6</td>\n",
       "    </tr>\n",
       "  </tbody>\n",
       "</table>\n",
       "</div>"
      ],
      "text/plain": [
       "   Unnamed: 0  Murder  Assault  UrbanPop  Rape\n",
       "0     Alabama    13.2      236        58  21.2\n",
       "1      Alaska    10.0      263        48  44.5\n",
       "2     Arizona     8.1      294        80  31.0\n",
       "3    Arkansas     8.8      190        50  19.5\n",
       "4  California     9.0      276        91  40.6"
      ]
     },
     "execution_count": 2,
     "metadata": {},
     "output_type": "execute_result"
    }
   ],
   "source": [
    "df=pd.read_csv('crime_data.csv')\n",
    "df.head()"
   ]
  },
  {
   "cell_type": "code",
   "execution_count": 3,
   "id": "9b34effd",
   "metadata": {},
   "outputs": [],
   "source": [
    "from sklearn.preprocessing import StandardScaler\n",
    "scaled_df=StandardScaler().fit_transform(df.iloc[:,1:])"
   ]
  },
  {
   "cell_type": "code",
   "execution_count": 10,
   "id": "75e5eefa",
   "metadata": {},
   "outputs": [
    {
     "name": "stdout",
     "output_type": "stream",
     "text": [
      "[200.0, 104.96163315756873, 80.08886132199619, 57.55425863091106, 50.520265525350695, 43.92746404497574, 40.52183461131975, 34.687388397849084, 32.70648136388185, 28.311639397122555]\n"
     ]
    }
   ],
   "source": [
    "from sklearn.cluster import KMeans\n",
    "\n",
    "wcss=[]\n",
    "for i in range(1,11):\n",
    "    kmeans=KMeans(n_clusters=i,random_state=0)\n",
    "    kmeans.fit(scaled_df)\n",
    "    wcss.append(kmeans.inertia_)\n",
    "print(wcss)"
   ]
  },
  {
   "cell_type": "code",
   "execution_count": 11,
   "id": "4930a9e4",
   "metadata": {},
   "outputs": [
    {
     "data": {
      "image/png": "[encoded data removed]",
      "text/plain": [
       "<Figure size 432x288 with 1 Axes>"
      ]
     },
     "metadata": {
      "needs_background": "light"
     },
     "output_type": "display_data"
    }
   ],
   "source": [
    "plt.plot(range(1,11),wcss)\n",
    "plt.title('Elbow Method')\n",
    "plt.xlabel('Number of clusters')\n",
    "plt.ylabel('WCSS')\n",
    "plt.show()"
   ]
  },
  {
   "cell_type": "code",
   "execution_count": 12,
   "id": "aba965d4",
   "metadata": {},
   "outputs": [
    {
     "data": {
      "text/plain": [
       "KMeans(n_clusters=4, random_state=42)"
      ]
     },
     "execution_count": 12,
     "metadata": {},
     "output_type": "execute_result"
    }
   ],
   "source": [
    "from sklearn.cluster import KMeans\n",
    "model=KMeans(4,random_state=42)\n",
    "model.fit(scaled_df)"
   ]
  },
  {
   "cell_type": "code",
   "execution_count": 13,
   "id": "b99a171f",
   "metadata": {},
   "outputs": [
    {
     "data": {
      "text/plain": [
       "array([1, 2, 2, 1, 2, 2, 0, 0, 2, 1, 0, 3, 2, 0, 3, 0, 3, 1, 3, 2, 0, 2,\n",
       "       3, 1, 2, 3, 3, 2, 3, 0, 2, 2, 1, 3, 0, 0, 0, 0, 0, 1, 3, 1, 2, 0,\n",
       "       3, 0, 0, 3, 3, 0])"
      ]
     },
     "execution_count": 13,
     "metadata": {},
     "output_type": "execute_result"
    }
   ],
   "source": [
    "model.labels_"
   ]
  },
  {
   "cell_type": "code",
   "execution_count": 16,
   "id": "27753e1e",
   "metadata": {},
   "outputs": [
    {
     "data": {
      "text/html": [
       "<div>\n",
       "<style scoped>\n",
       "    .dataframe tbody tr th:only-of-type {\n",
       "        vertical-align: middle;\n",
       "    }\n",
       "\n",
       "    .dataframe tbody tr th {\n",
       "        vertical-align: top;\n",
       "    }\n",
       "\n",
       "    .dataframe thead th {\n",
       "        text-align: right;\n",
       "    }\n",
       "</style>\n",
       "<table border=\"1\" class=\"dataframe\">\n",
       "  <thead>\n",
       "    <tr style=\"text-align: right;\">\n",
       "      <th></th>\n",
       "      <th>Unnamed: 0</th>\n",
       "      <th>Murder</th>\n",
       "      <th>Assault</th>\n",
       "      <th>UrbanPop</th>\n",
       "      <th>Rape</th>\n",
       "      <th>pred_labels</th>\n",
       "    </tr>\n",
       "  </thead>\n",
       "  <tbody>\n",
       "    <tr>\n",
       "      <th>45</th>\n",
       "      <td>Virginia</td>\n",
       "      <td>8.5</td>\n",
       "      <td>156</td>\n",
       "      <td>63</td>\n",
       "      <td>20.7</td>\n",
       "      <td>0</td>\n",
       "    </tr>\n",
       "    <tr>\n",
       "      <th>46</th>\n",
       "      <td>Washington</td>\n",
       "      <td>4.0</td>\n",
       "      <td>145</td>\n",
       "      <td>73</td>\n",
       "      <td>26.2</td>\n",
       "      <td>0</td>\n",
       "    </tr>\n",
       "    <tr>\n",
       "      <th>47</th>\n",
       "      <td>West Virginia</td>\n",
       "      <td>5.7</td>\n",
       "      <td>81</td>\n",
       "      <td>39</td>\n",
       "      <td>9.3</td>\n",
       "      <td>3</td>\n",
       "    </tr>\n",
       "    <tr>\n",
       "      <th>48</th>\n",
       "      <td>Wisconsin</td>\n",
       "      <td>2.6</td>\n",
       "      <td>53</td>\n",
       "      <td>66</td>\n",
       "      <td>10.8</td>\n",
       "      <td>3</td>\n",
       "    </tr>\n",
       "    <tr>\n",
       "      <th>49</th>\n",
       "      <td>Wyoming</td>\n",
       "      <td>6.8</td>\n",
       "      <td>161</td>\n",
       "      <td>60</td>\n",
       "      <td>15.6</td>\n",
       "      <td>0</td>\n",
       "    </tr>\n",
       "  </tbody>\n",
       "</table>\n",
       "</div>"
      ],
      "text/plain": [
       "       Unnamed: 0  Murder  Assault  UrbanPop  Rape  pred_labels\n",
       "45       Virginia     8.5      156        63  20.7            0\n",
       "46     Washington     4.0      145        73  26.2            0\n",
       "47  West Virginia     5.7       81        39   9.3            3\n",
       "48      Wisconsin     2.6       53        66  10.8            3\n",
       "49        Wyoming     6.8      161        60  15.6            0"
      ]
     },
     "execution_count": 16,
     "metadata": {},
     "output_type": "execute_result"
    }
   ],
   "source": [
    "df['pred_labels']=model.labels_\n",
    "df.()"
   ]
  },
  {
   "cell_type": "code",
   "execution_count": 15,
   "id": "5bc43ebb",
   "metadata": {},
   "outputs": [
    {
     "data": {
      "text/html": [
       "<div>\n",
       "<style scoped>\n",
       "    .dataframe tbody tr th:only-of-type {\n",
       "        vertical-align: middle;\n",
       "    }\n",
       "\n",
       "    .dataframe tbody tr th {\n",
       "        vertical-align: top;\n",
       "    }\n",
       "\n",
       "    .dataframe thead tr th {\n",
       "        text-align: left;\n",
       "    }\n",
       "\n",
       "    .dataframe thead tr:last-of-type th {\n",
       "        text-align: right;\n",
       "    }\n",
       "</style>\n",
       "<table border=\"1\" class=\"dataframe\">\n",
       "  <thead>\n",
       "    <tr>\n",
       "      <th></th>\n",
       "      <th>Murder</th>\n",
       "      <th>Assault</th>\n",
       "      <th>UrbanPop</th>\n",
       "      <th>Rape</th>\n",
       "    </tr>\n",
       "    <tr>\n",
       "      <th></th>\n",
       "      <th>mean</th>\n",
       "      <th>mean</th>\n",
       "      <th>mean</th>\n",
       "      <th>mean</th>\n",
       "    </tr>\n",
       "    <tr>\n",
       "      <th>pred_labels</th>\n",
       "      <th></th>\n",
       "      <th></th>\n",
       "      <th></th>\n",
       "      <th></th>\n",
       "    </tr>\n",
       "  </thead>\n",
       "  <tbody>\n",
       "    <tr>\n",
       "      <th>0</th>\n",
       "      <td>5.656250</td>\n",
       "      <td>138.875000</td>\n",
       "      <td>73.875000</td>\n",
       "      <td>18.781250</td>\n",
       "    </tr>\n",
       "    <tr>\n",
       "      <th>1</th>\n",
       "      <td>13.937500</td>\n",
       "      <td>243.625000</td>\n",
       "      <td>53.750000</td>\n",
       "      <td>21.412500</td>\n",
       "    </tr>\n",
       "    <tr>\n",
       "      <th>2</th>\n",
       "      <td>10.815385</td>\n",
       "      <td>257.384615</td>\n",
       "      <td>76.000000</td>\n",
       "      <td>33.192308</td>\n",
       "    </tr>\n",
       "    <tr>\n",
       "      <th>3</th>\n",
       "      <td>3.600000</td>\n",
       "      <td>78.538462</td>\n",
       "      <td>52.076923</td>\n",
       "      <td>12.176923</td>\n",
       "    </tr>\n",
       "  </tbody>\n",
       "</table>\n",
       "</div>"
      ],
      "text/plain": [
       "                Murder     Assault   UrbanPop       Rape\n",
       "                  mean        mean       mean       mean\n",
       "pred_labels                                             \n",
       "0             5.656250  138.875000  73.875000  18.781250\n",
       "1            13.937500  243.625000  53.750000  21.412500\n",
       "2            10.815385  257.384615  76.000000  33.192308\n",
       "3             3.600000   78.538462  52.076923  12.176923"
      ]
     },
     "execution_count": 15,
     "metadata": {},
     "output_type": "execute_result"
    }
   ],
   "source": [
    "df.groupby('pred_labels').agg(['mean'])"
   ]
  },
  {
   "cell_type": "code",
   "execution_count": 17,
   "id": "26542de4",
   "metadata": {},
   "outputs": [
    {
     "name": "stdout",
     "output_type": "stream",
     "text": [
      "(0,        Unnamed: 0  Murder  Assault  UrbanPop  Rape  pred_labels\n",
      "6     Connecticut     3.3      110        77  11.1            0\n",
      "7        Delaware     5.9      238        72  15.8            0\n",
      "10         Hawaii     5.3       46        83  20.2            0\n",
      "13        Indiana     7.2      113        65  21.0            0\n",
      "15         Kansas     6.0      115        66  18.0            0\n",
      "20  Massachusetts     4.4      149        85  16.3            0\n",
      "29     New Jersey     7.4      159        89  18.8            0\n",
      "34           Ohio     7.3      120        75  21.4            0\n",
      "35       Oklahoma     6.6      151        68  20.0            0\n",
      "36         Oregon     4.9      159        67  29.3            0\n",
      "37   Pennsylvania     6.3      106        72  14.9            0\n",
      "38   Rhode Island     3.4      174        87   8.3            0\n",
      "43           Utah     3.2      120        80  22.9            0\n",
      "45       Virginia     8.5      156        63  20.7            0\n",
      "46     Washington     4.0      145        73  26.2            0\n",
      "49        Wyoming     6.8      161        60  15.6            0)\n",
      "(1,         Unnamed: 0  Murder  Assault  UrbanPop  Rape  pred_labels\n",
      "0          Alabama    13.2      236        58  21.2            1\n",
      "3         Arkansas     8.8      190        50  19.5            1\n",
      "9          Georgia    17.4      211        60  25.8            1\n",
      "17       Louisiana    15.4      249        66  22.2            1\n",
      "23     Mississippi    16.1      259        44  17.1            1\n",
      "32  North Carolina    13.0      337        45  16.1            1\n",
      "39  South Carolina    14.4      279        48  22.5            1\n",
      "41       Tennessee    13.2      188        59  26.9            1)\n",
      "(2,     Unnamed: 0  Murder  Assault  UrbanPop  Rape  pred_labels\n",
      "1       Alaska    10.0      263        48  44.5            2\n",
      "2      Arizona     8.1      294        80  31.0            2\n",
      "4   California     9.0      276        91  40.6            2\n",
      "5     Colorado     7.9      204        78  38.7            2\n",
      "8      Florida    15.4      335        80  31.9            2\n",
      "12    Illinois    10.4      249        83  24.0            2\n",
      "19    Maryland    11.3      300        67  27.8            2\n",
      "21    Michigan    12.1      255        74  35.1            2\n",
      "24    Missouri     9.0      178        70  28.2            2\n",
      "27      Nevada    12.2      252        81  46.0            2\n",
      "30  New Mexico    11.4      285        70  32.1            2\n",
      "31    New York    11.1      254        86  26.1            2\n",
      "42       Texas    12.7      201        80  25.5            2)\n",
      "(3,        Unnamed: 0  Murder  Assault  UrbanPop  Rape  pred_labels\n",
      "11          Idaho     2.6      120        54  14.2            3\n",
      "14           Iowa     2.2       56        57  11.3            3\n",
      "16       Kentucky     9.7      109        52  16.3            3\n",
      "18          Maine     2.1       83        51   7.8            3\n",
      "22      Minnesota     2.7       72        66  14.9            3\n",
      "25        Montana     6.0      109        53  16.4            3\n",
      "26       Nebraska     4.3      102        62  16.5            3\n",
      "28  New Hampshire     2.1       57        56   9.5            3\n",
      "33   North Dakota     0.8       45        44   7.3            3\n",
      "40   South Dakota     3.8       86        45  12.8            3\n",
      "44        Vermont     2.2       48        32  11.2            3\n",
      "47  West Virginia     5.7       81        39   9.3            3\n",
      "48      Wisconsin     2.6       53        66  10.8            3)\n"
     ]
    }
   ],
   "source": [
    "group=df.groupby('pred_labels')\n",
    "for pred_labels in group:\n",
    "    print(pred_labels)"
   ]
  },
  {
   "cell_type": "markdown",
   "id": "8921dfa3",
   "metadata": {},
   "source": [
    "# Hierarchical Clustering"
   ]
  },
  {
   "cell_type": "code",
   "execution_count": 20,
   "id": "a451bcc7",
   "metadata": {},
   "outputs": [
    {
     "data": {
      "text/plain": [
       "array([[0.74698795, 0.65410959, 0.44067797, 0.35917313, 0.33333333],\n",
       "       [0.55421687, 0.74657534, 0.27118644, 0.96124031, 0.66666667],\n",
       "       [0.43975904, 0.85273973, 0.81355932, 0.6124031 , 0.66666667],\n",
       "       [0.48192771, 0.49657534, 0.30508475, 0.31524548, 0.33333333],\n",
       "       [0.4939759 , 0.79109589, 1.        , 0.86046512, 0.66666667],\n",
       "       [0.42771084, 0.54452055, 0.77966102, 0.81136951, 0.66666667],\n",
       "       [0.15060241, 0.22260274, 0.76271186, 0.09819121, 0.        ],\n",
       "       [0.30722892, 0.6609589 , 0.6779661 , 0.21963824, 0.        ],\n",
       "       [0.87951807, 0.99315068, 0.81355932, 0.63565891, 0.66666667],\n",
       "       [1.        , 0.56849315, 0.47457627, 0.47803618, 0.33333333],\n",
       "       [0.27108434, 0.00342466, 0.86440678, 0.33333333, 0.        ],\n",
       "       [0.10843373, 0.25684932, 0.37288136, 0.17829457, 1.        ],\n",
       "       [0.57831325, 0.69863014, 0.86440678, 0.43152455, 0.66666667],\n",
       "       [0.38554217, 0.23287671, 0.55932203, 0.35400517, 0.        ],\n",
       "       [0.08433735, 0.03767123, 0.42372881, 0.10335917, 1.        ],\n",
       "       [0.31325301, 0.23972603, 0.57627119, 0.27648579, 0.        ],\n",
       "       [0.53614458, 0.21917808, 0.33898305, 0.23255814, 1.        ],\n",
       "       [0.87951807, 0.69863014, 0.57627119, 0.38501292, 0.33333333],\n",
       "       [0.07831325, 0.13013699, 0.3220339 , 0.0129199 , 1.        ],\n",
       "       [0.63253012, 0.87328767, 0.59322034, 0.52971576, 0.66666667],\n",
       "       [0.21686747, 0.35616438, 0.89830508, 0.23255814, 0.        ],\n",
       "       [0.68072289, 0.71917808, 0.71186441, 0.71834625, 0.66666667],\n",
       "       [0.11445783, 0.09246575, 0.57627119, 0.19638243, 1.        ],\n",
       "       [0.92168675, 0.73287671, 0.20338983, 0.25322997, 0.33333333],\n",
       "       [0.4939759 , 0.45547945, 0.6440678 , 0.54005168, 0.66666667],\n",
       "       [0.31325301, 0.21917808, 0.3559322 , 0.23514212, 1.        ],\n",
       "       [0.21084337, 0.19520548, 0.50847458, 0.2377261 , 1.        ],\n",
       "       [0.68674699, 0.70890411, 0.83050847, 1.        , 0.66666667],\n",
       "       [0.07831325, 0.04109589, 0.40677966, 0.05684755, 1.        ],\n",
       "       [0.39759036, 0.39041096, 0.96610169, 0.29715762, 0.        ],\n",
       "       [0.63855422, 0.82191781, 0.6440678 , 0.64082687, 0.66666667],\n",
       "       [0.62048193, 0.71575342, 0.91525424, 0.48578811, 0.66666667],\n",
       "       [0.73493976, 1.        , 0.22033898, 0.22739018, 0.33333333],\n",
       "       [0.        , 0.        , 0.20338983, 0.        , 1.        ],\n",
       "       [0.39156627, 0.25684932, 0.72881356, 0.36434109, 0.        ],\n",
       "       [0.34939759, 0.3630137 , 0.61016949, 0.32816537, 0.        ],\n",
       "       [0.24698795, 0.39041096, 0.59322034, 0.56847545, 0.        ],\n",
       "       [0.3313253 , 0.20890411, 0.6779661 , 0.19638243, 0.        ],\n",
       "       [0.15662651, 0.44178082, 0.93220339, 0.02583979, 0.        ],\n",
       "       [0.81927711, 0.80136986, 0.27118644, 0.39276486, 0.33333333],\n",
       "       [0.18072289, 0.14041096, 0.22033898, 0.14211886, 1.        ],\n",
       "       [0.74698795, 0.48972603, 0.45762712, 0.50645995, 0.33333333],\n",
       "       [0.71686747, 0.53424658, 0.81355932, 0.47028424, 0.66666667],\n",
       "       [0.14457831, 0.25684932, 0.81355932, 0.40310078, 0.        ],\n",
       "       [0.08433735, 0.01027397, 0.        , 0.10077519, 1.        ],\n",
       "       [0.46385542, 0.38013699, 0.52542373, 0.34625323, 0.        ],\n",
       "       [0.19277108, 0.34246575, 0.69491525, 0.48837209, 0.        ],\n",
       "       [0.29518072, 0.12328767, 0.11864407, 0.05167959, 1.        ],\n",
       "       [0.10843373, 0.02739726, 0.57627119, 0.09043928, 1.        ],\n",
       "       [0.36144578, 0.39726027, 0.47457627, 0.21447028, 0.        ]])"
      ]
     },
     "execution_count": 20,
     "metadata": {},
     "output_type": "execute_result"
    }
   ],
   "source": [
    "from sklearn.preprocessing import MinMaxScaler\n",
    "norm_df=MinMaxScaler().fit_transform(df.iloc[:,1:])\n",
    "norm_df"
   ]
  },
  {
   "cell_type": "code",
   "execution_count": 21,
   "id": "f506fe84",
   "metadata": {},
   "outputs": [
    {
     "data": {
      "image/png": "[encoded data removed]",
      "text/plain": [
       "<Figure size 432x288 with 1 Axes>"
      ]
     },
     "metadata": {
      "needs_background": "light"
     },
     "output_type": "display_data"
    }
   ],
   "source": [
    "import scipy.cluster.hierarchy as sch\n",
    "dendogram= sch.dendrogram(sch.linkage(norm_df, method='single'))"
   ]
  },
  {
   "cell_type": "code",
   "execution_count": 22,
   "id": "739f097f",
   "metadata": {},
   "outputs": [
    {
     "data": {
      "text/plain": [
       "AgglomerativeClustering(linkage='single', n_clusters=4)"
      ]
     },
     "execution_count": 22,
     "metadata": {},
     "output_type": "execute_result"
    }
   ],
   "source": [
    "from sklearn.cluster import AgglomerativeClustering\n",
    "hc=AgglomerativeClustering(n_clusters=4,linkage='single')\n",
    "hc.fit(norm_df)"
   ]
  },
  {
   "cell_type": "code",
   "execution_count": 23,
   "id": "5e0245e4",
   "metadata": {},
   "outputs": [
    {
     "data": {
      "text/plain": [
       "array([0, 2, 1, 0, 1, 1, 0, 0, 1, 0, 0, 3, 1, 0, 3, 0, 3, 0, 3, 1, 0, 1,\n",
       "       3, 0, 1, 3, 3, 1, 3, 0, 1, 1, 0, 3, 0, 0, 0, 0, 0, 0, 3, 0, 1, 0,\n",
       "       3, 0, 0, 3, 3, 0], dtype=int64)"
      ]
     },
     "execution_count": 23,
     "metadata": {},
     "output_type": "execute_result"
    }
   ],
   "source": [
    "hc.labels_"
   ]
  },
  {
   "cell_type": "code",
   "execution_count": 24,
   "id": "142c2621",
   "metadata": {},
   "outputs": [
    {
     "data": {
      "text/html": [
       "<div>\n",
       "<style scoped>\n",
       "    .dataframe tbody tr th:only-of-type {\n",
       "        vertical-align: middle;\n",
       "    }\n",
       "\n",
       "    .dataframe tbody tr th {\n",
       "        vertical-align: top;\n",
       "    }\n",
       "\n",
       "    .dataframe thead th {\n",
       "        text-align: right;\n",
       "    }\n",
       "</style>\n",
       "<table border=\"1\" class=\"dataframe\">\n",
       "  <thead>\n",
       "    <tr style=\"text-align: right;\">\n",
       "      <th></th>\n",
       "      <th>Unnamed: 0</th>\n",
       "      <th>Murder</th>\n",
       "      <th>Assault</th>\n",
       "      <th>UrbanPop</th>\n",
       "      <th>Rape</th>\n",
       "      <th>pred_labels</th>\n",
       "    </tr>\n",
       "  </thead>\n",
       "  <tbody>\n",
       "    <tr>\n",
       "      <th>0</th>\n",
       "      <td>Alabama</td>\n",
       "      <td>13.2</td>\n",
       "      <td>236</td>\n",
       "      <td>58</td>\n",
       "      <td>21.2</td>\n",
       "      <td>0</td>\n",
       "    </tr>\n",
       "    <tr>\n",
       "      <th>1</th>\n",
       "      <td>Alaska</td>\n",
       "      <td>10.0</td>\n",
       "      <td>263</td>\n",
       "      <td>48</td>\n",
       "      <td>44.5</td>\n",
       "      <td>2</td>\n",
       "    </tr>\n",
       "    <tr>\n",
       "      <th>2</th>\n",
       "      <td>Arizona</td>\n",
       "      <td>8.1</td>\n",
       "      <td>294</td>\n",
       "      <td>80</td>\n",
       "      <td>31.0</td>\n",
       "      <td>1</td>\n",
       "    </tr>\n",
       "    <tr>\n",
       "      <th>3</th>\n",
       "      <td>Arkansas</td>\n",
       "      <td>8.8</td>\n",
       "      <td>190</td>\n",
       "      <td>50</td>\n",
       "      <td>19.5</td>\n",
       "      <td>0</td>\n",
       "    </tr>\n",
       "    <tr>\n",
       "      <th>4</th>\n",
       "      <td>California</td>\n",
       "      <td>9.0</td>\n",
       "      <td>276</td>\n",
       "      <td>91</td>\n",
       "      <td>40.6</td>\n",
       "      <td>1</td>\n",
       "    </tr>\n",
       "  </tbody>\n",
       "</table>\n",
       "</div>"
      ],
      "text/plain": [
       "   Unnamed: 0  Murder  Assault  UrbanPop  Rape  pred_labels\n",
       "0     Alabama    13.2      236        58  21.2            0\n",
       "1      Alaska    10.0      263        48  44.5            2\n",
       "2     Arizona     8.1      294        80  31.0            1\n",
       "3    Arkansas     8.8      190        50  19.5            0\n",
       "4  California     9.0      276        91  40.6            1"
      ]
     },
     "execution_count": 24,
     "metadata": {},
     "output_type": "execute_result"
    }
   ],
   "source": [
    "df['pred_labels']=hc.labels_\n",
    "df.head()"
   ]
  },
  {
   "cell_type": "code",
   "execution_count": 25,
   "id": "37922654",
   "metadata": {},
   "outputs": [
    {
     "data": {
      "text/html": [
       "<div>\n",
       "<style scoped>\n",
       "    .dataframe tbody tr th:only-of-type {\n",
       "        vertical-align: middle;\n",
       "    }\n",
       "\n",
       "    .dataframe tbody tr th {\n",
       "        vertical-align: top;\n",
       "    }\n",
       "\n",
       "    .dataframe thead tr th {\n",
       "        text-align: left;\n",
       "    }\n",
       "\n",
       "    .dataframe thead tr:last-of-type th {\n",
       "        text-align: right;\n",
       "    }\n",
       "</style>\n",
       "<table border=\"1\" class=\"dataframe\">\n",
       "  <thead>\n",
       "    <tr>\n",
       "      <th></th>\n",
       "      <th>Murder</th>\n",
       "      <th>Assault</th>\n",
       "      <th>UrbanPop</th>\n",
       "      <th>Rape</th>\n",
       "    </tr>\n",
       "    <tr>\n",
       "      <th></th>\n",
       "      <th>mean</th>\n",
       "      <th>mean</th>\n",
       "      <th>mean</th>\n",
       "      <th>mean</th>\n",
       "    </tr>\n",
       "    <tr>\n",
       "      <th>pred_labels</th>\n",
       "      <th></th>\n",
       "      <th></th>\n",
       "      <th></th>\n",
       "      <th></th>\n",
       "    </tr>\n",
       "  </thead>\n",
       "  <tbody>\n",
       "    <tr>\n",
       "      <th>0</th>\n",
       "      <td>8.416667</td>\n",
       "      <td>173.791667</td>\n",
       "      <td>67.166667</td>\n",
       "      <td>19.658333</td>\n",
       "    </tr>\n",
       "    <tr>\n",
       "      <th>1</th>\n",
       "      <td>10.883333</td>\n",
       "      <td>256.916667</td>\n",
       "      <td>78.333333</td>\n",
       "      <td>32.250000</td>\n",
       "    </tr>\n",
       "    <tr>\n",
       "      <th>2</th>\n",
       "      <td>10.000000</td>\n",
       "      <td>263.000000</td>\n",
       "      <td>48.000000</td>\n",
       "      <td>44.500000</td>\n",
       "    </tr>\n",
       "    <tr>\n",
       "      <th>3</th>\n",
       "      <td>3.600000</td>\n",
       "      <td>78.538462</td>\n",
       "      <td>52.076923</td>\n",
       "      <td>12.176923</td>\n",
       "    </tr>\n",
       "  </tbody>\n",
       "</table>\n",
       "</div>"
      ],
      "text/plain": [
       "                Murder     Assault   UrbanPop       Rape\n",
       "                  mean        mean       mean       mean\n",
       "pred_labels                                             \n",
       "0             8.416667  173.791667  67.166667  19.658333\n",
       "1            10.883333  256.916667  78.333333  32.250000\n",
       "2            10.000000  263.000000  48.000000  44.500000\n",
       "3             3.600000   78.538462  52.076923  12.176923"
      ]
     },
     "execution_count": 25,
     "metadata": {},
     "output_type": "execute_result"
    }
   ],
   "source": [
    "df.groupby('pred_labels').agg(['mean'])"
   ]
  },
  {
   "cell_type": "markdown",
   "id": "db272589",
   "metadata": {},
   "source": [
    "# DBSCAN"
   ]
  },
  {
   "cell_type": "code",
   "execution_count": 34,
   "id": "ffa577cf",
   "metadata": {},
   "outputs": [],
   "source": [
    "from sklearn.preprocessing import StandardScaler\n",
    "scaled_df=StandardScaler().fit_transform(df.iloc[:,1:])"
   ]
  },
  {
   "cell_type": "code",
   "execution_count": 35,
   "id": "4972a06c",
   "metadata": {},
   "outputs": [
    {
     "data": {
      "text/plain": [
       "DBSCAN(eps=2)"
      ]
     },
     "execution_count": 35,
     "metadata": {},
     "output_type": "execute_result"
    }
   ],
   "source": [
    "from sklearn.cluster import DBSCAN\n",
    "dbscan = DBSCAN(eps=2, min_samples=5)\n",
    "dbscan.fit(scaled_df)"
   ]
  },
  {
   "cell_type": "code",
   "execution_count": 36,
   "id": "0ed543dd",
   "metadata": {},
   "outputs": [
    {
     "data": {
      "text/plain": [
       "array([ 0, -1,  0,  0,  0,  0,  0,  0,  0,  0,  0,  1,  0,  0,  1,  0,  1,\n",
       "        0,  1,  0,  0,  0,  1,  0,  0,  1,  1,  0,  1,  0,  0,  0,  0,  1,\n",
       "        0,  0,  0,  0,  0,  0,  1,  0,  0,  0,  1,  0,  0,  1,  1,  0],\n",
       "      dtype=int64)"
      ]
     },
     "execution_count": 36,
     "metadata": {},
     "output_type": "execute_result"
    }
   ],
   "source": [
    "dbscan.labels_"
   ]
  },
  {
   "cell_type": "code",
   "execution_count": 37,
   "id": "61df1cbc",
   "metadata": {},
   "outputs": [],
   "source": [
    "df['pred_label']=dbscan.labels_"
   ]
  },
  {
   "cell_type": "code",
   "execution_count": 38,
   "id": "72970d5c",
   "metadata": {},
   "outputs": [
    {
     "data": {
      "text/html": [
       "<div>\n",
       "<style scoped>\n",
       "    .dataframe tbody tr th:only-of-type {\n",
       "        vertical-align: middle;\n",
       "    }\n",
       "\n",
       "    .dataframe tbody tr th {\n",
       "        vertical-align: top;\n",
       "    }\n",
       "\n",
       "    .dataframe thead th {\n",
       "        text-align: right;\n",
       "    }\n",
       "</style>\n",
       "<table border=\"1\" class=\"dataframe\">\n",
       "  <thead>\n",
       "    <tr style=\"text-align: right;\">\n",
       "      <th></th>\n",
       "      <th>Unnamed: 0</th>\n",
       "      <th>Murder</th>\n",
       "      <th>Assault</th>\n",
       "      <th>UrbanPop</th>\n",
       "      <th>Rape</th>\n",
       "      <th>pred_labels</th>\n",
       "      <th>pred_label</th>\n",
       "    </tr>\n",
       "  </thead>\n",
       "  <tbody>\n",
       "    <tr>\n",
       "      <th>0</th>\n",
       "      <td>Alabama</td>\n",
       "      <td>13.2</td>\n",
       "      <td>236</td>\n",
       "      <td>58</td>\n",
       "      <td>21.2</td>\n",
       "      <td>0</td>\n",
       "      <td>0</td>\n",
       "    </tr>\n",
       "    <tr>\n",
       "      <th>1</th>\n",
       "      <td>Alaska</td>\n",
       "      <td>10.0</td>\n",
       "      <td>263</td>\n",
       "      <td>48</td>\n",
       "      <td>44.5</td>\n",
       "      <td>2</td>\n",
       "      <td>-1</td>\n",
       "    </tr>\n",
       "    <tr>\n",
       "      <th>2</th>\n",
       "      <td>Arizona</td>\n",
       "      <td>8.1</td>\n",
       "      <td>294</td>\n",
       "      <td>80</td>\n",
       "      <td>31.0</td>\n",
       "      <td>1</td>\n",
       "      <td>0</td>\n",
       "    </tr>\n",
       "    <tr>\n",
       "      <th>3</th>\n",
       "      <td>Arkansas</td>\n",
       "      <td>8.8</td>\n",
       "      <td>190</td>\n",
       "      <td>50</td>\n",
       "      <td>19.5</td>\n",
       "      <td>0</td>\n",
       "      <td>0</td>\n",
       "    </tr>\n",
       "    <tr>\n",
       "      <th>4</th>\n",
       "      <td>California</td>\n",
       "      <td>9.0</td>\n",
       "      <td>276</td>\n",
       "      <td>91</td>\n",
       "      <td>40.6</td>\n",
       "      <td>1</td>\n",
       "      <td>0</td>\n",
       "    </tr>\n",
       "  </tbody>\n",
       "</table>\n",
       "</div>"
      ],
      "text/plain": [
       "   Unnamed: 0  Murder  Assault  UrbanPop  Rape  pred_labels  pred_label\n",
       "0     Alabama    13.2      236        58  21.2            0           0\n",
       "1      Alaska    10.0      263        48  44.5            2          -1\n",
       "2     Arizona     8.1      294        80  31.0            1           0\n",
       "3    Arkansas     8.8      190        50  19.5            0           0\n",
       "4  California     9.0      276        91  40.6            1           0"
      ]
     },
     "execution_count": 38,
     "metadata": {},
     "output_type": "execute_result"
    }
   ],
   "source": [
    "df.head()"
   ]
  },
  {
   "cell_type": "code",
   "execution_count": 39,
   "id": "63fe9c4b",
   "metadata": {},
   "outputs": [
    {
     "data": {
      "text/html": [
       "<div>\n",
       "<style scoped>\n",
       "    .dataframe tbody tr th:only-of-type {\n",
       "        vertical-align: middle;\n",
       "    }\n",
       "\n",
       "    .dataframe tbody tr th {\n",
       "        vertical-align: top;\n",
       "    }\n",
       "\n",
       "    .dataframe thead tr th {\n",
       "        text-align: left;\n",
       "    }\n",
       "\n",
       "    .dataframe thead tr:last-of-type th {\n",
       "        text-align: right;\n",
       "    }\n",
       "</style>\n",
       "<table border=\"1\" class=\"dataframe\">\n",
       "  <thead>\n",
       "    <tr>\n",
       "      <th></th>\n",
       "      <th>Murder</th>\n",
       "      <th>Assault</th>\n",
       "      <th>UrbanPop</th>\n",
       "      <th>Rape</th>\n",
       "      <th>pred_labels</th>\n",
       "    </tr>\n",
       "    <tr>\n",
       "      <th></th>\n",
       "      <th>mean</th>\n",
       "      <th>mean</th>\n",
       "      <th>mean</th>\n",
       "      <th>mean</th>\n",
       "      <th>mean</th>\n",
       "    </tr>\n",
       "    <tr>\n",
       "      <th>pred_label</th>\n",
       "      <th></th>\n",
       "      <th></th>\n",
       "      <th></th>\n",
       "      <th></th>\n",
       "      <th></th>\n",
       "    </tr>\n",
       "  </thead>\n",
       "  <tbody>\n",
       "    <tr>\n",
       "      <th>-1</th>\n",
       "      <td>10.000000</td>\n",
       "      <td>263.000000</td>\n",
       "      <td>48.000000</td>\n",
       "      <td>44.500000</td>\n",
       "      <td>2.000000</td>\n",
       "    </tr>\n",
       "    <tr>\n",
       "      <th>0</th>\n",
       "      <td>9.238889</td>\n",
       "      <td>201.500000</td>\n",
       "      <td>70.888889</td>\n",
       "      <td>23.855556</td>\n",
       "      <td>0.333333</td>\n",
       "    </tr>\n",
       "    <tr>\n",
       "      <th>1</th>\n",
       "      <td>3.600000</td>\n",
       "      <td>78.538462</td>\n",
       "      <td>52.076923</td>\n",
       "      <td>12.176923</td>\n",
       "      <td>3.000000</td>\n",
       "    </tr>\n",
       "  </tbody>\n",
       "</table>\n",
       "</div>"
      ],
      "text/plain": [
       "               Murder     Assault   UrbanPop       Rape pred_labels\n",
       "                 mean        mean       mean       mean        mean\n",
       "pred_label                                                         \n",
       "-1          10.000000  263.000000  48.000000  44.500000    2.000000\n",
       " 0           9.238889  201.500000  70.888889  23.855556    0.333333\n",
       " 1           3.600000   78.538462  52.076923  12.176923    3.000000"
      ]
     },
     "execution_count": 39,
     "metadata": {},
     "output_type": "execute_result"
    }
   ],
   "source": [
    "df.groupby('pred_label').agg(['mean'])"
   ]
  },
  {
   "cell_type": "code",
   "execution_count": null,
   "id": "55d22121",
   "metadata": {},
   "outputs": [],
   "source": []
  }
 ],
 "metadata": {
  "kernelspec": {
   "display_name": "Python 3",
   "language": "python",
   "name": "python3"
  },
  "language_info": {
   "codemirror_mode": {
    "name": "ipython",
    "version": 3
   },
   "file_extension": ".py",
   "mimetype": "text/x-python",
   "name": "python",
   "nbconvert_exporter": "python",
   "pygments_lexer": "ipython3",
   "version": "3.8.8"
  }
 },
 "nbformat": 4,
 "nbformat_minor": 5
}
